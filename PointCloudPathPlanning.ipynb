{
 "cells": [
  {
   "cell_type": "code",
   "execution_count": 6,
   "metadata": {},
   "outputs": [],
   "source": [
    "from stl import mesh\n",
    "from mpl_toolkits import mplot3d\n",
    "from matplotlib import pyplot\n",
    "import pandas as pd\n",
    "# Load the STL files and add the vectors to the plot\n",
    "your_mesh = mesh.Mesh.from_file('data/meshlab.stl',remove_duplicate_polygons=1,calculate_normals=False,)\n",
    "import numpy as np"
   ]
  },
  {
   "cell_type": "code",
   "execution_count": 7,
   "metadata": {},
   "outputs": [],
   "source": [
    "normals=pd.DataFrame(your_mesh.normals)\n",
    "toplayer_polygons=pd.DataFrame(your_mesh.points[normals[normals[2]>0.01].index])\n",
    "selected_polygons=np.array(toplayer_polygons)\n",
    "\n",
    "def area(x1, y1, x2, y2, x3, y3): \n",
    "  \n",
    "    return abs((x1 * (y2 - y3) + x2 * (y3 - y1)  \n",
    "                + x3 * (y1 - y2)) / 2.0) \n",
    "  \n",
    "    \n",
    "def isInside(x1, y1, x2, y2, x3, y3, x, y): \n",
    "    \n",
    "\n",
    "    Area = 0.5 *(-y2*x3 + y1*(-x2 + x3) + x1*(y2 - y3) + x2*y3);\n",
    "    s = 1/(2*Area)*(y1*x3 - x1*y3 + (y3 - y1)*x + (x1 - x3)*y);\n",
    "    t = 1/(2*Area)*(x1*y2 - y1*x2 + (y1 - y2)*x + (x2 - x1)*y);\n",
    "    if(s>=0 and t>=0 and (1-s-t)>=0):\n",
    "        return True\n",
    "    else:\n",
    "        return False\n",
    "    \n",
    "    \n",
    "def sign (x1, y1, x2, y2, x3, y3):\n",
    "    return (x1- x3) * (y2 - y3) - (x2 - x3) * (y1 - y3);\n",
    "\n",
    "\n",
    "def PointInTriangle (x1, y1, x2, y2, x3, y3, x, y): \n",
    "\n",
    "\n",
    "    d1 = sign(x,y, x1,y1,x2,y3);\n",
    "    d2 = sign(x,y, x2,y2, x3,y3);\n",
    "    d3 = sign(x,y, x3,y3, x1,y1);\n",
    "\n",
    "    has_neg = (d1 < 0) or (d2 < 0) or (d3 < 0);\n",
    "    has_pos = (d1 > 0) or (d2 > 0) or (d3 > 0);\n",
    "\n",
    "    return not(has_neg and has_pos);\n",
    "def pda(x,y,t):\n",
    "    return sum(a*y+c*b+d*x<d*a+c*y+b*x for i in(0,1,2)for a,b,c,d in[t[i-1]+t[i]])%3<1\n",
    "def threaded_function(cntr,x,y):\n",
    "    for idx,_plgn in enumerate(selected_polygons):\n",
    "\n",
    "        _x1,_y1,_z1,_x2,_y2,_z2,_x3,_y3,_z3=_plgn\n",
    "        t=((_x1, _y1), (_x2, _y2), (_x3, _y3))\n",
    "        if pda(x,y,t):\n",
    "            #(PointInTriangle(_x1, _y1, _x2, _y2, _x3, _y3, x, y)):\n",
    "\n",
    "            _pt=(x,y,np.mean([_z1,_z2,_z3]),your_mesh.normals[idx])\n",
    "            point_grid[cntr]=(_pt)\n",
    "            break#plt.plot(x,y,'b.')\n"
   ]
  },
  {
   "cell_type": "code",
   "execution_count": 9,
   "metadata": {},
   "outputs": [
    {
     "name": "stderr",
     "output_type": "stream",
     "text": [
      "/home/dan/anaconda3/envs/cam/lib/python3.7/site-packages/ipykernel_launcher.py:15: RuntimeWarning: divide by zero encountered in double_scalars\n",
      "  from ipykernel import kernelapp as app\n",
      "/home/dan/anaconda3/envs/cam/lib/python3.7/site-packages/ipykernel_launcher.py:16: RuntimeWarning: divide by zero encountered in double_scalars\n",
      "  app.launch_new_instance()\n"
     ]
    }
   ],
   "source": [
    "\n",
    "x1=selected_polygons[:,0]\n",
    "x2=selected_polygons[:,3]\n",
    "x3=selected_polygons[:,6]\n",
    "y1=selected_polygons[:,1]\n",
    "y2=selected_polygons[:,4]\n",
    "y3=selected_polygons[:,7]\n",
    "x_max=np.max([np.max(x1),np.max(x2),np.max(x3)])\n",
    "y_max=np.max([np.max(y1),np.max(y2),np.max(y3)])\n",
    "x_min=np.max([np.min(x1),np.min(x2),np.min(x3)])\n",
    "y_min=np.max([np.min(y1),np.min(y2),np.min(y3)])\n",
    "dx=0.01\n",
    "num_x=(x_max-x_min)//dx\n",
    "point_grid=[]#[None]*(int(num_x**2))\n",
    "cntr=0\n",
    "threads=[]\n",
    "from threading import Thread\n",
    "\n",
    "num_x=20\n",
    "\n",
    "for x in np.linspace(x_min, x_max,num_x):\n",
    "    pnt_row=[]\n",
    "    for y in np.linspace(y_min, y_max,num_x):\n",
    "        \n",
    "                #(PointInTriangle(_x1, _y1, _x2, _y2, _x3, _y3, x, y)):\n",
    "        #thread = Thread(target = threaded_function, args = (cntr,x, y))\n",
    "        #thread.start()\n",
    "        #threads.append(thread)\n",
    "        #cntr+=1;\n",
    "        _pt=(None,None,None,None)\n",
    "        \n",
    "        for idx,_plgn in enumerate(selected_polygons):\n",
    "\n",
    "            _x1,_y1,_z1,_x2,_y2,_z2,_x3,_y3,_z3=_plgn\n",
    "            t=((_x1, _y1), (_x2, _y2), (_x3, _y3))\n",
    "            if isInside(_x1, _y1, _x2, _y2, _x3, _y3, x, y):\n",
    "                #(PointInTriangle(_x1, _y1, _x2, _y2, _x3, _y3, x, y)):\n",
    "\n",
    "                _pt=(x,y,np.mean([_z1,_z2,_z3]),your_mesh.normals[idx])\n",
    "                break#plt.plot(x,y,'b.')\n",
    "        pnt_row.append(_pt)\n",
    "    point_grid.append(pnt_row)"
   ]
  },
  {
   "cell_type": "code",
   "execution_count": 28,
   "metadata": {},
   "outputs": [],
   "source": [
    "mesh=np.array(np.moveaxis(np.meshgrid(np.linspace(x_min, x_max,num_x),np.linspace(y_min, y_max,num_x)),0,-1))"
   ]
  },
  {
   "cell_type": "code",
   "execution_count": 59,
   "metadata": {},
   "outputs": [
    {
     "ename": "AttributeError",
     "evalue": "'list' object has no attribute 'shape'",
     "output_type": "error",
     "traceback": [
      "\u001b[0;31m---------------------------------------------------------------------------\u001b[0m",
      "\u001b[0;31mAttributeError\u001b[0m                            Traceback (most recent call last)",
      "\u001b[0;32m<ipython-input-59-caee85937b50>\u001b[0m in \u001b[0;36m<module>\u001b[0;34m\u001b[0m\n\u001b[1;32m      5\u001b[0m \u001b[0mx\u001b[0m\u001b[0;34m,\u001b[0m\u001b[0my\u001b[0m\u001b[0;34m=\u001b[0m\u001b[0mnp\u001b[0m\u001b[0;34m.\u001b[0m\u001b[0mmeshgrid\u001b[0m\u001b[0;34m(\u001b[0m\u001b[0mnp\u001b[0m\u001b[0;34m.\u001b[0m\u001b[0mlinspace\u001b[0m\u001b[0;34m(\u001b[0m\u001b[0mx_min\u001b[0m\u001b[0;34m,\u001b[0m \u001b[0mx_max\u001b[0m\u001b[0;34m,\u001b[0m\u001b[0mnum_x\u001b[0m\u001b[0;34m)\u001b[0m\u001b[0;34m,\u001b[0m\u001b[0mnp\u001b[0m\u001b[0;34m.\u001b[0m\u001b[0mlinspace\u001b[0m\u001b[0;34m(\u001b[0m\u001b[0my_min\u001b[0m\u001b[0;34m,\u001b[0m \u001b[0my_max\u001b[0m\u001b[0;34m,\u001b[0m\u001b[0mnum_x\u001b[0m\u001b[0;34m)\u001b[0m\u001b[0;34m)\u001b[0m\u001b[0;34m[\u001b[0m\u001b[0;36m0\u001b[0m\u001b[0;34m]\u001b[0m\u001b[0;34m[\u001b[0m\u001b[0;34m:\u001b[0m\u001b[0;34m]\u001b[0m\u001b[0;34m[\u001b[0m\u001b[0;34m:\u001b[0m\u001b[0;34m]\u001b[0m\u001b[0;34m.\u001b[0m\u001b[0mravel\u001b[0m\u001b[0;34m(\u001b[0m\u001b[0;34m)\u001b[0m\u001b[0;34m,\u001b[0m\u001b[0mnp\u001b[0m\u001b[0;34m.\u001b[0m\u001b[0mmeshgrid\u001b[0m\u001b[0;34m(\u001b[0m\u001b[0mnp\u001b[0m\u001b[0;34m.\u001b[0m\u001b[0mlinspace\u001b[0m\u001b[0;34m(\u001b[0m\u001b[0mx_min\u001b[0m\u001b[0;34m,\u001b[0m \u001b[0mx_max\u001b[0m\u001b[0;34m,\u001b[0m\u001b[0mnum_x\u001b[0m\u001b[0;34m)\u001b[0m\u001b[0;34m,\u001b[0m\u001b[0mnp\u001b[0m\u001b[0;34m.\u001b[0m\u001b[0mlinspace\u001b[0m\u001b[0;34m(\u001b[0m\u001b[0my_min\u001b[0m\u001b[0;34m,\u001b[0m \u001b[0my_max\u001b[0m\u001b[0;34m,\u001b[0m\u001b[0mnum_x\u001b[0m\u001b[0;34m)\u001b[0m\u001b[0;34m)\u001b[0m\u001b[0;34m[\u001b[0m\u001b[0;36m1\u001b[0m\u001b[0;34m]\u001b[0m\u001b[0;34m[\u001b[0m\u001b[0;34m:\u001b[0m\u001b[0;34m]\u001b[0m\u001b[0;34m[\u001b[0m\u001b[0;34m:\u001b[0m\u001b[0;34m]\u001b[0m\u001b[0;34m.\u001b[0m\u001b[0mravel\u001b[0m\u001b[0;34m(\u001b[0m\u001b[0;34m)\u001b[0m\u001b[0;34m\u001b[0m\u001b[0;34m\u001b[0m\u001b[0m\n\u001b[1;32m      6\u001b[0m \u001b[0mz\u001b[0m\u001b[0;34m=\u001b[0m\u001b[0mzip\u001b[0m\u001b[0;34m(\u001b[0m\u001b[0mx\u001b[0m\u001b[0;34m,\u001b[0m\u001b[0my\u001b[0m\u001b[0;34m)\u001b[0m\u001b[0;34m\u001b[0m\u001b[0;34m\u001b[0m\u001b[0m\n\u001b[0;32m----> 7\u001b[0;31m \u001b[0mprint\u001b[0m\u001b[0;34m(\u001b[0m\u001b[0mlist\u001b[0m\u001b[0;34m(\u001b[0m\u001b[0mz\u001b[0m\u001b[0;34m)\u001b[0m\u001b[0;34m.\u001b[0m\u001b[0mshape\u001b[0m\u001b[0;34m)\u001b[0m\u001b[0;34m\u001b[0m\u001b[0;34m\u001b[0m\u001b[0m\n\u001b[0m",
      "\u001b[0;31mAttributeError\u001b[0m: 'list' object has no attribute 'shape'"
     ]
    }
   ],
   "source": [
    "import matplotlib.pyplot as plt\n",
    "from sklearn.neighbors import KDTree\n",
    "from scipy import spatial\n",
    "%matplotlib inline\n",
    "x,y=np.meshgrid(np.linspace(x_min, x_max,num_x),np.linspace(y_min, y_max,num_x))[0][:][:].ravel(),np.meshgrid(np.linspace(x_min, x_max,num_x),np.linspace(y_min, y_max,num_x))[1][:][:].ravel()\n",
    "z=zip(x,y)\n",
    "print(list(z).shape)"
   ]
  },
  {
   "cell_type": "code",
   "execution_count": 49,
   "metadata": {},
   "outputs": [
    {
     "data": {
      "text/plain": [
       "(400,)"
      ]
     },
     "execution_count": 49,
     "metadata": {},
     "output_type": "execute_result"
    }
   ],
   "source": [
    "y.shape"
   ]
  },
  {
   "cell_type": "code",
   "execution_count": null,
   "metadata": {},
   "outputs": [],
   "source": [
    "tree = spatial.KDTree(zip(x.ravel(), y.ravel()))"
   ]
  }
 ],
 "metadata": {
  "kernelspec": {
   "display_name": "CAM2",
   "language": "python",
   "name": "cam2"
  },
  "language_info": {
   "codemirror_mode": {
    "name": "ipython",
    "version": 3
   },
   "file_extension": ".py",
   "mimetype": "text/x-python",
   "name": "python",
   "nbconvert_exporter": "python",
   "pygments_lexer": "ipython3",
   "version": "3.7.1"
  }
 },
 "nbformat": 4,
 "nbformat_minor": 2
}
